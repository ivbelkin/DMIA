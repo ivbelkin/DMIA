{
 "metadata": {
  "name": "",
  "signature": "sha256:780f8f382cf88b25c7d09a1a188542356d5855f5d008bf5c1d151a2ee0767757"
 },
 "nbformat": 3,
 "nbformat_minor": 0,
 "worksheets": [
  {
   "cells": [
    {
     "cell_type": "code",
     "collapsed": false,
     "input": [
      "import pandas as pd\n",
      "import numpy as np\n",
      "\n",
      "import matplotlib.pyplot as plt\n",
      "%matplotlib inline\n",
      "\n",
      "from matplotlib import rcParams\n",
      "rcParams['figure.figsize'] = [12, 8]"
     ],
     "language": "python",
     "metadata": {},
     "outputs": []
    },
    {
     "cell_type": "code",
     "collapsed": false,
     "input": [
      "transactions = pd.read_csv(\"transactions.csv\")\n",
      "genders = pd.read_csv(\"customers_gender_train.csv\")"
     ],
     "language": "python",
     "metadata": {},
     "outputs": []
    },
    {
     "cell_type": "markdown",
     "metadata": {},
     "source": [
      "### Feature generation"
     ]
    },
    {
     "cell_type": "raw",
     "metadata": {},
     "source": [
      "\u0414\u043b\u044f \u043a\u0430\u0436\u0434\u043e\u0433\u043e \u043f\u043e\u043b\u044c\u0437\u043e\u0432\u0430\u0442\u0435\u043b\u044f \u043f\u043e\u0434\u0441\u0447\u0438\u0442\u0430\u0435\u043c \u043f\u043e \u0432\u0441\u0435\u043c mcc \u0441\u0443\u043c\u043c\u044b, \u043a\u043e\u043b\u0438\u0447\u0435\u0441\u0442\u0432\u043e \u0442\u0440\u0430\u043d\u0437\u0430\u043a\u0446\u0438\u0439 \u0438 \u0441\u0440\u0435\u0434\u043d\u044e\u044e \u0441\u0443\u043c\u043c\u0443 \u0442\u0440\u0430\u043d\u0437\u0430\u043a\u0446\u0438\u0438 \u043e\u0442\u0434\u0435\u043b\u044c\u043d\u043e \u0434\u043b\u044f \u043f\u043e\u043b\u043e\u0436\u0438\u0442\u0435\u043b\u044c\u043d\u044b\u0445 \u0438 \u043e\u0442\u0434\u0435\u043b\u044c\u043d\u043e \u0434\u043b\u044f \u043e\u0442\u0440\u0438\u0446\u0430\u0442\u0435\u043b\u044c\u043d\u044b\u0445 \u0437\u043d\u0430\u0447\u0435\u043d\u0438\u0439 amount."
     ]
    },
    {
     "cell_type": "code",
     "collapsed": false,
     "input": [
      "transactions.drop(['tr_type', 'term_id', 'tr_datetime'], axis = 1, inplace = True)"
     ],
     "language": "python",
     "metadata": {},
     "outputs": []
    },
    {
     "cell_type": "code",
     "collapsed": false,
     "input": [
      "def gen_features(x):\n",
      "    mcc_group = x.groupby(\"mcc_code\")\n",
      "    index = []\n",
      "    suffixes = ['_sum_p', '_sum_n', '_cnt_p', '_cnt_n', '_mean_p', '_mean_n']\n",
      "    for name in mcc_group.groups:\n",
      "        for suf in suffixes:\n",
      "            index += [str(name) + suf]\n",
      "    features = pd.Series(index = index)\n",
      "    for name, group in mcc_group:\n",
      "        positive = group.amount > 0\n",
      "        features[str(name) + '_sum_p'] = group.amount[positive].sum()\n",
      "        features[str(name) + '_sum_n'] = -group.amount[~positive].sum()\n",
      "        features[str(name) + '_cnt_p'] = len(group.amount[positive])\n",
      "        features[str(name) + '_cnt_n'] = len(group.amount[~positive])\n",
      "        features[str(name) + '_mean_p'] = group.amount[positive].mean()\n",
      "        features[str(name) + '_mean_n'] = -group.amount[~positive].mean()\n",
      "    return features"
     ],
     "language": "python",
     "metadata": {},
     "outputs": []
    },
    {
     "cell_type": "code",
     "collapsed": false,
     "input": [
      "data = transactions.groupby(\"customer_id\") \\\n",
      "                         .apply(gen_features) \\\n",
      "                         .unstack() \\\n",
      "                         .fillna(0) \\\n",
      "                         .reset_index()"
     ],
     "language": "python",
     "metadata": {},
     "outputs": []
    },
    {
     "cell_type": "markdown",
     "metadata": {},
     "source": [
      "\u0412\u044b\u0434\u0435\u043b\u0438\u043c \u043f\u043e\u043b\u044c\u0437\u043e\u0432\u0430\u0442\u0435\u043b\u0435\u0439 \u0434\u043b\u044f \u043a\u043e\u0442\u043e\u0440\u044b\u0445 \u043d\u0443\u0436\u043d\u043e \u043d\u0430\u0439\u0442\u0438 \u043e\u0442\u0432\u0435\u0442"
     ]
    },
    {
     "cell_type": "code",
     "collapsed": false,
     "input": [
      "in_train = np.in1d(data.customer_id, gender.customer_id)\n",
      "X_train = data[in_train]\n",
      "X_test = data[~in_train]"
     ],
     "language": "python",
     "metadata": {},
     "outputs": []
    },
    {
     "cell_type": "code",
     "collapsed": false,
     "input": [
      "gender = gender.set_index('customer_id')\n",
      "X_train['target'] = 1.0 * gender.loc[X_train.customer_id].values\n",
      "gender = gender.reset_index()"
     ],
     "language": "python",
     "metadata": {},
     "outputs": []
    },
    {
     "cell_type": "markdown",
     "metadata": {},
     "source": [
      "### Validation"
     ]
    },
    {
     "cell_type": "raw",
     "metadata": {},
     "source": [
      "\u0412 \u043a\u0430\u0447\u0435\u0441\u0442\u0432\u0435 \u0432\u0430\u043b\u0438\u0434\u0430\u0446\u0438\u043e\u043d\u043d\u043e\u0433\u043e \u0441\u0435\u0442\u0430 \u043f\u0440\u043e\u0441\u0442\u043e \u0432\u043e\u0437\u044c\u043c\u0435\u043c \u0441\u043b\u0443\u0447\u0430\u0439\u043d\u0443\u044e \u043f\u043e\u0434\u0432\u044b\u0431\u043e\u0440\u043a\u0443"
     ]
    },
    {
     "cell_type": "code",
     "collapsed": false,
     "input": [
      "from sklearn.cross_validation import train_test_split"
     ],
     "language": "python",
     "metadata": {},
     "outputs": []
    },
    {
     "cell_type": "code",
     "collapsed": false,
     "input": [
      "x_train, x_val, y_train, y_val = train_test_split(X_train.iloc[:,1:-1], X_train['target'], train_size = 0.7)"
     ],
     "language": "python",
     "metadata": {},
     "outputs": []
    },
    {
     "cell_type": "markdown",
     "metadata": {},
     "source": [
      "### Build a model"
     ]
    },
    {
     "cell_type": "code",
     "collapsed": false,
     "input": [
      "import xgboost as xgb"
     ],
     "language": "python",
     "metadata": {},
     "outputs": []
    },
    {
     "cell_type": "code",
     "collapsed": false,
     "input": [
      "dtrain = xgb.DMatrix(x_train, y_train, feature_names = x_train.columns)\n",
      "dval = xgb.DMatrix(x_val, y_val, feature_names = x_val.columns)"
     ],
     "language": "python",
     "metadata": {},
     "outputs": []
    },
    {
     "cell_type": "code",
     "collapsed": false,
     "input": [
      "dtest = xgb.DMatrix(X_test.iloc[:,1:], feature_names=X_test.columns[1:])"
     ],
     "language": "python",
     "metadata": {},
     "outputs": []
    },
    {
     "cell_type": "code",
     "collapsed": false,
     "input": [
      "params = {\n",
      "    'eta':0.03,\n",
      "    'max_depth':5,\n",
      "    'subsample':0.6,\n",
      "    'colsample_bytree':0.6,\n",
      "    'objective':'binary:logistic',\n",
      "    'eval_metric':'auc'\n",
      "}\n",
      "num_boost_round = 500\n",
      "watchlist = [(dtrain, 'train'), (dval, 'val')]\n",
      "evals_result = {}"
     ],
     "language": "python",
     "metadata": {},
     "outputs": []
    },
    {
     "cell_type": "code",
     "collapsed": false,
     "input": [
      "model = xgb.train(params, dtrain, num_boost_round, evals = watchlist, verbose_eval = 10, evals_result = evals_result)"
     ],
     "language": "python",
     "metadata": {},
     "outputs": []
    },
    {
     "cell_type": "markdown",
     "metadata": {},
     "source": [
      "\u041f\u043e\u0441\u0442\u0440\u043e\u0438\u043c \u043a\u0440\u0438\u0432\u044b\u0435 \u043e\u0431\u0443\u0447\u0435\u043d\u0438\u044f, \u0432\u044b\u0431\u0435\u0440\u0435\u043c \u043e\u043f\u0442\u0438\u043c\u0430\u043b\u044c\u043d\u043e\u0435 \u043a\u043e\u043b\u0438\u0447\u0435\u0441\u0442\u0432\u043e \u0434\u0435\u0440\u0435\u0432\u044c\u0435\u0432."
     ]
    },
    {
     "cell_type": "code",
     "collapsed": false,
     "input": [
      "plt.plot(np.arange(num_boost_round) + 1, evals_result['train']['auc'], 'b-', label = 'train')\n",
      "plt.plot(np.arange(num_boost_round) + 1, evals_result['val']['auc'], 'r-', label = 'val')\n",
      "plt.xlabel('n trees')\n",
      "plt.ylabel('auc')\n",
      "plt.legend()\n",
      "plt.grid()"
     ],
     "language": "python",
     "metadata": {},
     "outputs": []
    },
    {
     "cell_type": "code",
     "collapsed": false,
     "input": [
      "prediction = model.predict(dtest, ntree_limit = 450)"
     ],
     "language": "python",
     "metadata": {},
     "outputs": []
    },
    {
     "cell_type": "code",
     "collapsed": false,
     "input": [
      "answer_to_save = pd.DataFrame({'customer_id':X_test['customer_id'],\n",
      "                               'gender':prediction})"
     ],
     "language": "python",
     "metadata": {},
     "outputs": []
    },
    {
     "cell_type": "code",
     "collapsed": false,
     "input": [
      "answer_to_save.to_csv(\"xgb_1.2.csv\", index = False)"
     ],
     "language": "python",
     "metadata": {},
     "outputs": []
    }
   ],
   "metadata": {}
  }
 ]
}